{
  "nbformat": 4,
  "nbformat_minor": 0,
  "metadata": {
    "colab": {
      "name": "Tubes ML_No.01",
      "provenance": []
    },
    "kernelspec": {
      "name": "python3",
      "display_name": "Python 3"
    },
    "language_info": {
      "name": "python"
    }
  },
  "cells": [
    {
      "cell_type": "markdown",
      "source": [
        "# **Tugas Besar Machine Learning**\n",
        "## **Jumlah pengunjung telecenter palapa tahun 2017-2021 di Kota Mojokerto**\n",
        "\n",
        "---\n",
        "### Nama Kelompok:\n",
        "1. Annisa Aulia Arafah (1202190038)\n",
        "2. Dinda Tresna Teja Nirwana (1202190050)\n",
        "3. Novandy Prakoso (1202190057)\n",
        "4. Catharina Prisca Titi Larasati (1202192049)\n"
      ],
      "metadata": {
        "id": "2atehH1SKcXW"
      }
    },
    {
      "cell_type": "markdown",
      "source": [
        "## 1. Identifikasi Masalah\n",
        "\n",
        "### Tele Center milik Pemkot Mojokerto yang berada di Gedung Mojokerto Service City (GMSC) Jalan Gajah Mada tidak pernah sepi pengunjung.Setiap puluhan pengujung mengantri untuk belajar IT di tempat ini. Dari hasil pengumpulan data dari tahun 2017 sampai 2021, didapatkan jumlah pengunjung perbulan tiap tahunnya. Oleh karena itu kita analisis perbandingan jumlah pengunjung per tahunnya dan melakukan prediksi beberapa bulan ke depan."
      ],
      "metadata": {
        "id": "r3dEyPCjtnYN"
      }
    },
    {
      "cell_type": "code",
      "source": [
        "#import library yang akan digunakan\n",
        "import pandas as pd\n",
        "import numpy as np\n",
        "import matplotlib.pyplot as plt\n",
        "from sklearn import linear_model\n",
        "import seaborn as sns\n",
        "%matplotlib inline"
      ],
      "metadata": {
        "id": "4MoSzger9luX"
      },
      "execution_count": null,
      "outputs": []
    },
    {
      "cell_type": "markdown",
      "source": [
        "## 2. Eksplorasi Data (EDA)"
      ],
      "metadata": {
        "id": "bp3AQKaU9epI"
      }
    },
    {
      "cell_type": "code",
      "source": [
        "#untuk melakukan pengambilan dataset, pada kasus ini mengambil dataset pengunjung telecenter palapa kota mojokerto\n",
        "df = pd.read_csv (\"datapengunjung.csv\")\n",
        "#menampilkan sample data, disini kami menampilkan 10 data teratas\n",
        "df.head(10)"
      ],
      "metadata": {
        "colab": {
          "base_uri": "https://localhost:8080/",
          "height": 363
        },
        "id": "RzAPdlx-NEm9",
        "outputId": "8d48f196-2ef6-4db6-89b9-c215d63e397f"
      },
      "execution_count": null,
      "outputs": [
        {
          "output_type": "execute_result",
          "data": {
            "text/plain": [
              "     provinsi  kota_kabupaten  tahun      bulan  jumlah\n",
              "0  Jawa Timur  Kota Mojokerto   2017    Januari     153\n",
              "1  Jawa Timur  Kota Mojokerto   2017  Februari      124\n",
              "2  Jawa Timur  Kota Mojokerto   2017      Maret     375\n",
              "3  Jawa Timur  Kota Mojokerto   2017      April     321\n",
              "4  Jawa Timur  Kota Mojokerto   2017        Mei     184\n",
              "5  Jawa Timur  Kota Mojokerto   2017       Juni     106\n",
              "6  Jawa Timur  Kota Mojokerto   2017       Juli     263\n",
              "7  Jawa Timur  Kota Mojokerto   2017    Agustus     148\n",
              "8  Jawa Timur  Kota Mojokerto   2017  September     169\n",
              "9  Jawa Timur  Kota Mojokerto   2017    Oktober     276"
            ],
            "text/html": [
              "\n",
              "  <div id=\"df-b812d0fd-799a-459e-b3b9-93a75333f9c4\">\n",
              "    <div class=\"colab-df-container\">\n",
              "      <div>\n",
              "<style scoped>\n",
              "    .dataframe tbody tr th:only-of-type {\n",
              "        vertical-align: middle;\n",
              "    }\n",
              "\n",
              "    .dataframe tbody tr th {\n",
              "        vertical-align: top;\n",
              "    }\n",
              "\n",
              "    .dataframe thead th {\n",
              "        text-align: right;\n",
              "    }\n",
              "</style>\n",
              "<table border=\"1\" class=\"dataframe\">\n",
              "  <thead>\n",
              "    <tr style=\"text-align: right;\">\n",
              "      <th></th>\n",
              "      <th>provinsi</th>\n",
              "      <th>kota_kabupaten</th>\n",
              "      <th>tahun</th>\n",
              "      <th>bulan</th>\n",
              "      <th>jumlah</th>\n",
              "    </tr>\n",
              "  </thead>\n",
              "  <tbody>\n",
              "    <tr>\n",
              "      <th>0</th>\n",
              "      <td>Jawa Timur</td>\n",
              "      <td>Kota Mojokerto</td>\n",
              "      <td>2017</td>\n",
              "      <td>Januari</td>\n",
              "      <td>153</td>\n",
              "    </tr>\n",
              "    <tr>\n",
              "      <th>1</th>\n",
              "      <td>Jawa Timur</td>\n",
              "      <td>Kota Mojokerto</td>\n",
              "      <td>2017</td>\n",
              "      <td>Februari</td>\n",
              "      <td>124</td>\n",
              "    </tr>\n",
              "    <tr>\n",
              "      <th>2</th>\n",
              "      <td>Jawa Timur</td>\n",
              "      <td>Kota Mojokerto</td>\n",
              "      <td>2017</td>\n",
              "      <td>Maret</td>\n",
              "      <td>375</td>\n",
              "    </tr>\n",
              "    <tr>\n",
              "      <th>3</th>\n",
              "      <td>Jawa Timur</td>\n",
              "      <td>Kota Mojokerto</td>\n",
              "      <td>2017</td>\n",
              "      <td>April</td>\n",
              "      <td>321</td>\n",
              "    </tr>\n",
              "    <tr>\n",
              "      <th>4</th>\n",
              "      <td>Jawa Timur</td>\n",
              "      <td>Kota Mojokerto</td>\n",
              "      <td>2017</td>\n",
              "      <td>Mei</td>\n",
              "      <td>184</td>\n",
              "    </tr>\n",
              "    <tr>\n",
              "      <th>5</th>\n",
              "      <td>Jawa Timur</td>\n",
              "      <td>Kota Mojokerto</td>\n",
              "      <td>2017</td>\n",
              "      <td>Juni</td>\n",
              "      <td>106</td>\n",
              "    </tr>\n",
              "    <tr>\n",
              "      <th>6</th>\n",
              "      <td>Jawa Timur</td>\n",
              "      <td>Kota Mojokerto</td>\n",
              "      <td>2017</td>\n",
              "      <td>Juli</td>\n",
              "      <td>263</td>\n",
              "    </tr>\n",
              "    <tr>\n",
              "      <th>7</th>\n",
              "      <td>Jawa Timur</td>\n",
              "      <td>Kota Mojokerto</td>\n",
              "      <td>2017</td>\n",
              "      <td>Agustus</td>\n",
              "      <td>148</td>\n",
              "    </tr>\n",
              "    <tr>\n",
              "      <th>8</th>\n",
              "      <td>Jawa Timur</td>\n",
              "      <td>Kota Mojokerto</td>\n",
              "      <td>2017</td>\n",
              "      <td>September</td>\n",
              "      <td>169</td>\n",
              "    </tr>\n",
              "    <tr>\n",
              "      <th>9</th>\n",
              "      <td>Jawa Timur</td>\n",
              "      <td>Kota Mojokerto</td>\n",
              "      <td>2017</td>\n",
              "      <td>Oktober</td>\n",
              "      <td>276</td>\n",
              "    </tr>\n",
              "  </tbody>\n",
              "</table>\n",
              "</div>\n",
              "      <button class=\"colab-df-convert\" onclick=\"convertToInteractive('df-b812d0fd-799a-459e-b3b9-93a75333f9c4')\"\n",
              "              title=\"Convert this dataframe to an interactive table.\"\n",
              "              style=\"display:none;\">\n",
              "        \n",
              "  <svg xmlns=\"http://www.w3.org/2000/svg\" height=\"24px\"viewBox=\"0 0 24 24\"\n",
              "       width=\"24px\">\n",
              "    <path d=\"M0 0h24v24H0V0z\" fill=\"none\"/>\n",
              "    <path d=\"M18.56 5.44l.94 2.06.94-2.06 2.06-.94-2.06-.94-.94-2.06-.94 2.06-2.06.94zm-11 1L8.5 8.5l.94-2.06 2.06-.94-2.06-.94L8.5 2.5l-.94 2.06-2.06.94zm10 10l.94 2.06.94-2.06 2.06-.94-2.06-.94-.94-2.06-.94 2.06-2.06.94z\"/><path d=\"M17.41 7.96l-1.37-1.37c-.4-.4-.92-.59-1.43-.59-.52 0-1.04.2-1.43.59L10.3 9.45l-7.72 7.72c-.78.78-.78 2.05 0 2.83L4 21.41c.39.39.9.59 1.41.59.51 0 1.02-.2 1.41-.59l7.78-7.78 2.81-2.81c.8-.78.8-2.07 0-2.86zM5.41 20L4 18.59l7.72-7.72 1.47 1.35L5.41 20z\"/>\n",
              "  </svg>\n",
              "      </button>\n",
              "      \n",
              "  <style>\n",
              "    .colab-df-container {\n",
              "      display:flex;\n",
              "      flex-wrap:wrap;\n",
              "      gap: 12px;\n",
              "    }\n",
              "\n",
              "    .colab-df-convert {\n",
              "      background-color: #E8F0FE;\n",
              "      border: none;\n",
              "      border-radius: 50%;\n",
              "      cursor: pointer;\n",
              "      display: none;\n",
              "      fill: #1967D2;\n",
              "      height: 32px;\n",
              "      padding: 0 0 0 0;\n",
              "      width: 32px;\n",
              "    }\n",
              "\n",
              "    .colab-df-convert:hover {\n",
              "      background-color: #E2EBFA;\n",
              "      box-shadow: 0px 1px 2px rgba(60, 64, 67, 0.3), 0px 1px 3px 1px rgba(60, 64, 67, 0.15);\n",
              "      fill: #174EA6;\n",
              "    }\n",
              "\n",
              "    [theme=dark] .colab-df-convert {\n",
              "      background-color: #3B4455;\n",
              "      fill: #D2E3FC;\n",
              "    }\n",
              "\n",
              "    [theme=dark] .colab-df-convert:hover {\n",
              "      background-color: #434B5C;\n",
              "      box-shadow: 0px 1px 3px 1px rgba(0, 0, 0, 0.15);\n",
              "      filter: drop-shadow(0px 1px 2px rgba(0, 0, 0, 0.3));\n",
              "      fill: #FFFFFF;\n",
              "    }\n",
              "  </style>\n",
              "\n",
              "      <script>\n",
              "        const buttonEl =\n",
              "          document.querySelector('#df-b812d0fd-799a-459e-b3b9-93a75333f9c4 button.colab-df-convert');\n",
              "        buttonEl.style.display =\n",
              "          google.colab.kernel.accessAllowed ? 'block' : 'none';\n",
              "\n",
              "        async function convertToInteractive(key) {\n",
              "          const element = document.querySelector('#df-b812d0fd-799a-459e-b3b9-93a75333f9c4');\n",
              "          const dataTable =\n",
              "            await google.colab.kernel.invokeFunction('convertToInteractive',\n",
              "                                                     [key], {});\n",
              "          if (!dataTable) return;\n",
              "\n",
              "          const docLinkHtml = 'Like what you see? Visit the ' +\n",
              "            '<a target=\"_blank\" href=https://colab.research.google.com/notebooks/data_table.ipynb>data table notebook</a>'\n",
              "            + ' to learn more about interactive tables.';\n",
              "          element.innerHTML = '';\n",
              "          dataTable['output_type'] = 'display_data';\n",
              "          await google.colab.output.renderOutput(dataTable, element);\n",
              "          const docLink = document.createElement('div');\n",
              "          docLink.innerHTML = docLinkHtml;\n",
              "          element.appendChild(docLink);\n",
              "        }\n",
              "      </script>\n",
              "    </div>\n",
              "  </div>\n",
              "  "
            ]
          },
          "metadata": {},
          "execution_count": 137
        }
      ]
    },
    {
      "cell_type": "code",
      "source": [
        "#menampilkan deskripsi dataset yang digunakan, terlihat bahwa data yang kami gunakan dari tahun 2017-2021\n",
        "df.describe()"
      ],
      "metadata": {
        "id": "bTq_UM5ZN9Hi",
        "colab": {
          "base_uri": "https://localhost:8080/",
          "height": 300
        },
        "outputId": "ed88a2f4-8197-479a-a730-68ace7cfa040"
      },
      "execution_count": null,
      "outputs": [
        {
          "output_type": "execute_result",
          "data": {
            "text/plain": [
              "             tahun       jumlah\n",
              "count    60.000000    60.000000\n",
              "mean   2019.000000   600.916667\n",
              "std       1.426148   725.006564\n",
              "min    2017.000000    61.000000\n",
              "25%    2018.000000   195.250000\n",
              "50%    2019.000000   324.000000\n",
              "75%    2020.000000   676.750000\n",
              "max    2021.000000  3451.000000"
            ],
            "text/html": [
              "\n",
              "  <div id=\"df-809f74c7-1da9-4029-aec3-111ee47b06fe\">\n",
              "    <div class=\"colab-df-container\">\n",
              "      <div>\n",
              "<style scoped>\n",
              "    .dataframe tbody tr th:only-of-type {\n",
              "        vertical-align: middle;\n",
              "    }\n",
              "\n",
              "    .dataframe tbody tr th {\n",
              "        vertical-align: top;\n",
              "    }\n",
              "\n",
              "    .dataframe thead th {\n",
              "        text-align: right;\n",
              "    }\n",
              "</style>\n",
              "<table border=\"1\" class=\"dataframe\">\n",
              "  <thead>\n",
              "    <tr style=\"text-align: right;\">\n",
              "      <th></th>\n",
              "      <th>tahun</th>\n",
              "      <th>jumlah</th>\n",
              "    </tr>\n",
              "  </thead>\n",
              "  <tbody>\n",
              "    <tr>\n",
              "      <th>count</th>\n",
              "      <td>60.000000</td>\n",
              "      <td>60.000000</td>\n",
              "    </tr>\n",
              "    <tr>\n",
              "      <th>mean</th>\n",
              "      <td>2019.000000</td>\n",
              "      <td>600.916667</td>\n",
              "    </tr>\n",
              "    <tr>\n",
              "      <th>std</th>\n",
              "      <td>1.426148</td>\n",
              "      <td>725.006564</td>\n",
              "    </tr>\n",
              "    <tr>\n",
              "      <th>min</th>\n",
              "      <td>2017.000000</td>\n",
              "      <td>61.000000</td>\n",
              "    </tr>\n",
              "    <tr>\n",
              "      <th>25%</th>\n",
              "      <td>2018.000000</td>\n",
              "      <td>195.250000</td>\n",
              "    </tr>\n",
              "    <tr>\n",
              "      <th>50%</th>\n",
              "      <td>2019.000000</td>\n",
              "      <td>324.000000</td>\n",
              "    </tr>\n",
              "    <tr>\n",
              "      <th>75%</th>\n",
              "      <td>2020.000000</td>\n",
              "      <td>676.750000</td>\n",
              "    </tr>\n",
              "    <tr>\n",
              "      <th>max</th>\n",
              "      <td>2021.000000</td>\n",
              "      <td>3451.000000</td>\n",
              "    </tr>\n",
              "  </tbody>\n",
              "</table>\n",
              "</div>\n",
              "      <button class=\"colab-df-convert\" onclick=\"convertToInteractive('df-809f74c7-1da9-4029-aec3-111ee47b06fe')\"\n",
              "              title=\"Convert this dataframe to an interactive table.\"\n",
              "              style=\"display:none;\">\n",
              "        \n",
              "  <svg xmlns=\"http://www.w3.org/2000/svg\" height=\"24px\"viewBox=\"0 0 24 24\"\n",
              "       width=\"24px\">\n",
              "    <path d=\"M0 0h24v24H0V0z\" fill=\"none\"/>\n",
              "    <path d=\"M18.56 5.44l.94 2.06.94-2.06 2.06-.94-2.06-.94-.94-2.06-.94 2.06-2.06.94zm-11 1L8.5 8.5l.94-2.06 2.06-.94-2.06-.94L8.5 2.5l-.94 2.06-2.06.94zm10 10l.94 2.06.94-2.06 2.06-.94-2.06-.94-.94-2.06-.94 2.06-2.06.94z\"/><path d=\"M17.41 7.96l-1.37-1.37c-.4-.4-.92-.59-1.43-.59-.52 0-1.04.2-1.43.59L10.3 9.45l-7.72 7.72c-.78.78-.78 2.05 0 2.83L4 21.41c.39.39.9.59 1.41.59.51 0 1.02-.2 1.41-.59l7.78-7.78 2.81-2.81c.8-.78.8-2.07 0-2.86zM5.41 20L4 18.59l7.72-7.72 1.47 1.35L5.41 20z\"/>\n",
              "  </svg>\n",
              "      </button>\n",
              "      \n",
              "  <style>\n",
              "    .colab-df-container {\n",
              "      display:flex;\n",
              "      flex-wrap:wrap;\n",
              "      gap: 12px;\n",
              "    }\n",
              "\n",
              "    .colab-df-convert {\n",
              "      background-color: #E8F0FE;\n",
              "      border: none;\n",
              "      border-radius: 50%;\n",
              "      cursor: pointer;\n",
              "      display: none;\n",
              "      fill: #1967D2;\n",
              "      height: 32px;\n",
              "      padding: 0 0 0 0;\n",
              "      width: 32px;\n",
              "    }\n",
              "\n",
              "    .colab-df-convert:hover {\n",
              "      background-color: #E2EBFA;\n",
              "      box-shadow: 0px 1px 2px rgba(60, 64, 67, 0.3), 0px 1px 3px 1px rgba(60, 64, 67, 0.15);\n",
              "      fill: #174EA6;\n",
              "    }\n",
              "\n",
              "    [theme=dark] .colab-df-convert {\n",
              "      background-color: #3B4455;\n",
              "      fill: #D2E3FC;\n",
              "    }\n",
              "\n",
              "    [theme=dark] .colab-df-convert:hover {\n",
              "      background-color: #434B5C;\n",
              "      box-shadow: 0px 1px 3px 1px rgba(0, 0, 0, 0.15);\n",
              "      filter: drop-shadow(0px 1px 2px rgba(0, 0, 0, 0.3));\n",
              "      fill: #FFFFFF;\n",
              "    }\n",
              "  </style>\n",
              "\n",
              "      <script>\n",
              "        const buttonEl =\n",
              "          document.querySelector('#df-809f74c7-1da9-4029-aec3-111ee47b06fe button.colab-df-convert');\n",
              "        buttonEl.style.display =\n",
              "          google.colab.kernel.accessAllowed ? 'block' : 'none';\n",
              "\n",
              "        async function convertToInteractive(key) {\n",
              "          const element = document.querySelector('#df-809f74c7-1da9-4029-aec3-111ee47b06fe');\n",
              "          const dataTable =\n",
              "            await google.colab.kernel.invokeFunction('convertToInteractive',\n",
              "                                                     [key], {});\n",
              "          if (!dataTable) return;\n",
              "\n",
              "          const docLinkHtml = 'Like what you see? Visit the ' +\n",
              "            '<a target=\"_blank\" href=https://colab.research.google.com/notebooks/data_table.ipynb>data table notebook</a>'\n",
              "            + ' to learn more about interactive tables.';\n",
              "          element.innerHTML = '';\n",
              "          dataTable['output_type'] = 'display_data';\n",
              "          await google.colab.output.renderOutput(dataTable, element);\n",
              "          const docLink = document.createElement('div');\n",
              "          docLink.innerHTML = docLinkHtml;\n",
              "          element.appendChild(docLink);\n",
              "        }\n",
              "      </script>\n",
              "    </div>\n",
              "  </div>\n",
              "  "
            ]
          },
          "metadata": {},
          "execution_count": 138
        }
      ]
    },
    {
      "cell_type": "markdown",
      "source": [
        "## 3. Pre Processing Data"
      ],
      "metadata": {
        "id": "k_wqYJ1DbWB0"
      }
    },
    {
      "cell_type": "code",
      "source": [
        "#menampilkan informasi dataset, terlihat bahwa tidak ada nilai null dan type data yang digunakan\n",
        "df.info()"
      ],
      "metadata": {
        "colab": {
          "base_uri": "https://localhost:8080/"
        },
        "id": "FF_LM6f1rUuV",
        "outputId": "dd2cd528-702e-4cd0-84de-d6efc0b7522d"
      },
      "execution_count": null,
      "outputs": [
        {
          "output_type": "stream",
          "name": "stdout",
          "text": [
            "<class 'pandas.core.frame.DataFrame'>\n",
            "RangeIndex: 60 entries, 0 to 59\n",
            "Data columns (total 5 columns):\n",
            " #   Column          Non-Null Count  Dtype \n",
            "---  ------          --------------  ----- \n",
            " 0   provinsi        60 non-null     object\n",
            " 1   kota_kabupaten  60 non-null     object\n",
            " 2   tahun           60 non-null     int64 \n",
            " 3   bulan           60 non-null     object\n",
            " 4   jumlah          60 non-null     int64 \n",
            "dtypes: int64(2), object(3)\n",
            "memory usage: 2.5+ KB\n"
          ]
        }
      ]
    },
    {
      "cell_type": "code",
      "source": [
        "#melakukan pemeriksaan nilai null\n",
        "df.isnull().sum()"
      ],
      "metadata": {
        "colab": {
          "base_uri": "https://localhost:8080/"
        },
        "id": "MiLmlSbaOUjS",
        "outputId": "12075d0c-feed-4a7d-86c9-2f2659968dc0"
      },
      "execution_count": null,
      "outputs": [
        {
          "output_type": "execute_result",
          "data": {
            "text/plain": [
              "provinsi          0\n",
              "kota_kabupaten    0\n",
              "tahun             0\n",
              "bulan             0\n",
              "jumlah            0\n",
              "dtype: int64"
            ]
          },
          "metadata": {},
          "execution_count": 140
        }
      ]
    },
    {
      "cell_type": "code",
      "source": [
        "#menampilkan bentuk data (baris, kolom)\n",
        "#dataset terdiri atas 60 baris dan 5 kolom\n",
        "df.shape"
      ],
      "metadata": {
        "colab": {
          "base_uri": "https://localhost:8080/"
        },
        "id": "3IjdgR9pGqhz",
        "outputId": "592aa3db-8541-42c7-c305-e75e09185fb3"
      },
      "execution_count": null,
      "outputs": [
        {
          "output_type": "execute_result",
          "data": {
            "text/plain": [
              "(60, 5)"
            ]
          },
          "metadata": {},
          "execution_count": 141
        }
      ]
    },
    {
      "cell_type": "code",
      "source": [
        "#cek nilai null\n",
        "df.isna().sum()"
      ],
      "metadata": {
        "colab": {
          "base_uri": "https://localhost:8080/"
        },
        "id": "yZkjXR-TGvIH",
        "outputId": "48fd756b-b7fc-4862-cb00-9c51d7b642c3"
      },
      "execution_count": null,
      "outputs": [
        {
          "output_type": "execute_result",
          "data": {
            "text/plain": [
              "provinsi          0\n",
              "kota_kabupaten    0\n",
              "tahun             0\n",
              "bulan             0\n",
              "jumlah            0\n",
              "dtype: int64"
            ]
          },
          "metadata": {},
          "execution_count": 142
        }
      ]
    },
    {
      "cell_type": "code",
      "source": [
        "#cek apakah terdapat nilai duplikat di dataset\n",
        "df.duplicated().any()"
      ],
      "metadata": {
        "colab": {
          "base_uri": "https://localhost:8080/"
        },
        "id": "Wpbt3bUGG01X",
        "outputId": "a79731d5-8cb2-4d67-ad5e-4901e2fa3817"
      },
      "execution_count": null,
      "outputs": [
        {
          "output_type": "execute_result",
          "data": {
            "text/plain": [
              "False"
            ]
          },
          "metadata": {},
          "execution_count": 143
        }
      ]
    },
    {
      "cell_type": "markdown",
      "source": [
        "## 4. Visualisasi Data"
      ],
      "metadata": {
        "id": "FMRJGbcgazGP"
      }
    },
    {
      "cell_type": "code",
      "source": [
        "#memilih tabel apa saja yang akan digunakan, pada kasus ini hanya menggunakan tahun, bulan dan jumlah \n",
        "data = df.pivot(\"tahun\", \"bulan\", \"jumlah\")\n",
        "#menampilkan 5 data teratas, cek apakah sudah sesuai\n",
        "data.head()"
      ],
      "metadata": {
        "colab": {
          "base_uri": "https://localhost:8080/",
          "height": 302
        },
        "id": "kdMKdjApiIIq",
        "outputId": "40e10e4f-43d2-485d-d7f5-2755af610fa3"
      },
      "execution_count": null,
      "outputs": [
        {
          "output_type": "execute_result",
          "data": {
            "text/plain": [
              "bulan  Agustus  April  Desember  Februari   Januari  Juli  Juni  Maret  Mei  \\\n",
              "tahun                                                                         \n",
              "2017       148    321       179        124      153   263   106    375  184   \n",
              "2018       375    349       455        489      359   222   199    247  234   \n",
              "2019      1383    628       416        944      364   933   455    902  614   \n",
              "2020       208    339       864       2369     1164   123    61    308   61   \n",
              "2021       180    823       209       3342     2296   306   170   1480   94   \n",
              "\n",
              "bulan  November  Oktober  September  \n",
              "tahun                                \n",
              "2017        216      276        169  \n",
              "2018        248      327        327  \n",
              "2019       1152     1193       1513  \n",
              "2020       3451      624        145  \n",
              "2021        218      233        145  "
            ],
            "text/html": [
              "\n",
              "  <div id=\"df-af9223bd-81a7-4f89-bebc-b2a6dd460554\">\n",
              "    <div class=\"colab-df-container\">\n",
              "      <div>\n",
              "<style scoped>\n",
              "    .dataframe tbody tr th:only-of-type {\n",
              "        vertical-align: middle;\n",
              "    }\n",
              "\n",
              "    .dataframe tbody tr th {\n",
              "        vertical-align: top;\n",
              "    }\n",
              "\n",
              "    .dataframe thead th {\n",
              "        text-align: right;\n",
              "    }\n",
              "</style>\n",
              "<table border=\"1\" class=\"dataframe\">\n",
              "  <thead>\n",
              "    <tr style=\"text-align: right;\">\n",
              "      <th>bulan</th>\n",
              "      <th>Agustus</th>\n",
              "      <th>April</th>\n",
              "      <th>Desember</th>\n",
              "      <th>Februari</th>\n",
              "      <th>Januari</th>\n",
              "      <th>Juli</th>\n",
              "      <th>Juni</th>\n",
              "      <th>Maret</th>\n",
              "      <th>Mei</th>\n",
              "      <th>November</th>\n",
              "      <th>Oktober</th>\n",
              "      <th>September</th>\n",
              "    </tr>\n",
              "    <tr>\n",
              "      <th>tahun</th>\n",
              "      <th></th>\n",
              "      <th></th>\n",
              "      <th></th>\n",
              "      <th></th>\n",
              "      <th></th>\n",
              "      <th></th>\n",
              "      <th></th>\n",
              "      <th></th>\n",
              "      <th></th>\n",
              "      <th></th>\n",
              "      <th></th>\n",
              "      <th></th>\n",
              "    </tr>\n",
              "  </thead>\n",
              "  <tbody>\n",
              "    <tr>\n",
              "      <th>2017</th>\n",
              "      <td>148</td>\n",
              "      <td>321</td>\n",
              "      <td>179</td>\n",
              "      <td>124</td>\n",
              "      <td>153</td>\n",
              "      <td>263</td>\n",
              "      <td>106</td>\n",
              "      <td>375</td>\n",
              "      <td>184</td>\n",
              "      <td>216</td>\n",
              "      <td>276</td>\n",
              "      <td>169</td>\n",
              "    </tr>\n",
              "    <tr>\n",
              "      <th>2018</th>\n",
              "      <td>375</td>\n",
              "      <td>349</td>\n",
              "      <td>455</td>\n",
              "      <td>489</td>\n",
              "      <td>359</td>\n",
              "      <td>222</td>\n",
              "      <td>199</td>\n",
              "      <td>247</td>\n",
              "      <td>234</td>\n",
              "      <td>248</td>\n",
              "      <td>327</td>\n",
              "      <td>327</td>\n",
              "    </tr>\n",
              "    <tr>\n",
              "      <th>2019</th>\n",
              "      <td>1383</td>\n",
              "      <td>628</td>\n",
              "      <td>416</td>\n",
              "      <td>944</td>\n",
              "      <td>364</td>\n",
              "      <td>933</td>\n",
              "      <td>455</td>\n",
              "      <td>902</td>\n",
              "      <td>614</td>\n",
              "      <td>1152</td>\n",
              "      <td>1193</td>\n",
              "      <td>1513</td>\n",
              "    </tr>\n",
              "    <tr>\n",
              "      <th>2020</th>\n",
              "      <td>208</td>\n",
              "      <td>339</td>\n",
              "      <td>864</td>\n",
              "      <td>2369</td>\n",
              "      <td>1164</td>\n",
              "      <td>123</td>\n",
              "      <td>61</td>\n",
              "      <td>308</td>\n",
              "      <td>61</td>\n",
              "      <td>3451</td>\n",
              "      <td>624</td>\n",
              "      <td>145</td>\n",
              "    </tr>\n",
              "    <tr>\n",
              "      <th>2021</th>\n",
              "      <td>180</td>\n",
              "      <td>823</td>\n",
              "      <td>209</td>\n",
              "      <td>3342</td>\n",
              "      <td>2296</td>\n",
              "      <td>306</td>\n",
              "      <td>170</td>\n",
              "      <td>1480</td>\n",
              "      <td>94</td>\n",
              "      <td>218</td>\n",
              "      <td>233</td>\n",
              "      <td>145</td>\n",
              "    </tr>\n",
              "  </tbody>\n",
              "</table>\n",
              "</div>\n",
              "      <button class=\"colab-df-convert\" onclick=\"convertToInteractive('df-af9223bd-81a7-4f89-bebc-b2a6dd460554')\"\n",
              "              title=\"Convert this dataframe to an interactive table.\"\n",
              "              style=\"display:none;\">\n",
              "        \n",
              "  <svg xmlns=\"http://www.w3.org/2000/svg\" height=\"24px\"viewBox=\"0 0 24 24\"\n",
              "       width=\"24px\">\n",
              "    <path d=\"M0 0h24v24H0V0z\" fill=\"none\"/>\n",
              "    <path d=\"M18.56 5.44l.94 2.06.94-2.06 2.06-.94-2.06-.94-.94-2.06-.94 2.06-2.06.94zm-11 1L8.5 8.5l.94-2.06 2.06-.94-2.06-.94L8.5 2.5l-.94 2.06-2.06.94zm10 10l.94 2.06.94-2.06 2.06-.94-2.06-.94-.94-2.06-.94 2.06-2.06.94z\"/><path d=\"M17.41 7.96l-1.37-1.37c-.4-.4-.92-.59-1.43-.59-.52 0-1.04.2-1.43.59L10.3 9.45l-7.72 7.72c-.78.78-.78 2.05 0 2.83L4 21.41c.39.39.9.59 1.41.59.51 0 1.02-.2 1.41-.59l7.78-7.78 2.81-2.81c.8-.78.8-2.07 0-2.86zM5.41 20L4 18.59l7.72-7.72 1.47 1.35L5.41 20z\"/>\n",
              "  </svg>\n",
              "      </button>\n",
              "      \n",
              "  <style>\n",
              "    .colab-df-container {\n",
              "      display:flex;\n",
              "      flex-wrap:wrap;\n",
              "      gap: 12px;\n",
              "    }\n",
              "\n",
              "    .colab-df-convert {\n",
              "      background-color: #E8F0FE;\n",
              "      border: none;\n",
              "      border-radius: 50%;\n",
              "      cursor: pointer;\n",
              "      display: none;\n",
              "      fill: #1967D2;\n",
              "      height: 32px;\n",
              "      padding: 0 0 0 0;\n",
              "      width: 32px;\n",
              "    }\n",
              "\n",
              "    .colab-df-convert:hover {\n",
              "      background-color: #E2EBFA;\n",
              "      box-shadow: 0px 1px 2px rgba(60, 64, 67, 0.3), 0px 1px 3px 1px rgba(60, 64, 67, 0.15);\n",
              "      fill: #174EA6;\n",
              "    }\n",
              "\n",
              "    [theme=dark] .colab-df-convert {\n",
              "      background-color: #3B4455;\n",
              "      fill: #D2E3FC;\n",
              "    }\n",
              "\n",
              "    [theme=dark] .colab-df-convert:hover {\n",
              "      background-color: #434B5C;\n",
              "      box-shadow: 0px 1px 3px 1px rgba(0, 0, 0, 0.15);\n",
              "      filter: drop-shadow(0px 1px 2px rgba(0, 0, 0, 0.3));\n",
              "      fill: #FFFFFF;\n",
              "    }\n",
              "  </style>\n",
              "\n",
              "      <script>\n",
              "        const buttonEl =\n",
              "          document.querySelector('#df-af9223bd-81a7-4f89-bebc-b2a6dd460554 button.colab-df-convert');\n",
              "        buttonEl.style.display =\n",
              "          google.colab.kernel.accessAllowed ? 'block' : 'none';\n",
              "\n",
              "        async function convertToInteractive(key) {\n",
              "          const element = document.querySelector('#df-af9223bd-81a7-4f89-bebc-b2a6dd460554');\n",
              "          const dataTable =\n",
              "            await google.colab.kernel.invokeFunction('convertToInteractive',\n",
              "                                                     [key], {});\n",
              "          if (!dataTable) return;\n",
              "\n",
              "          const docLinkHtml = 'Like what you see? Visit the ' +\n",
              "            '<a target=\"_blank\" href=https://colab.research.google.com/notebooks/data_table.ipynb>data table notebook</a>'\n",
              "            + ' to learn more about interactive tables.';\n",
              "          element.innerHTML = '';\n",
              "          dataTable['output_type'] = 'display_data';\n",
              "          await google.colab.output.renderOutput(dataTable, element);\n",
              "          const docLink = document.createElement('div');\n",
              "          docLink.innerHTML = docLinkHtml;\n",
              "          element.appendChild(docLink);\n",
              "        }\n",
              "      </script>\n",
              "    </div>\n",
              "  </div>\n",
              "  "
            ]
          },
          "metadata": {},
          "execution_count": 181
        }
      ]
    },
    {
      "cell_type": "code",
      "source": [
        "\n",
        "sns.lineplot(data=data[\"Agustus\"])"
      ],
      "metadata": {
        "colab": {
          "base_uri": "https://localhost:8080/",
          "height": 296
        },
        "id": "NtoUT7TaooGD",
        "outputId": "e4195a07-f97f-4b9b-d2bf-cc044be1ed90"
      },
      "execution_count": null,
      "outputs": [
        {
          "output_type": "execute_result",
          "data": {
            "text/plain": [
              "<matplotlib.axes._subplots.AxesSubplot at 0x7f93991c1050>"
            ]
          },
          "metadata": {},
          "execution_count": 183
        },
        {
          "output_type": "display_data",
          "data": {
            "text/plain": [
              "<Figure size 432x288 with 1 Axes>"
            ],
            "image/png": "[encoded data removed]"
          },
          "metadata": {
            "needs_background": "light"
          }
        }
      ]
    },
    {
      "cell_type": "code",
      "source": [
        "sns.lineplot(data=df, x=\"tahun\", y=\"jumlah\", hue=\"bulan\")"
      ],
      "metadata": {
        "id": "491SoRq9pqle",
        "outputId": "ed7ebeb7-54d8-4b8a-d324-37627f98aeaf",
        "colab": {
          "base_uri": "https://localhost:8080/",
          "height": 296
        }
      },
      "execution_count": null,
      "outputs": [
        {
          "output_type": "execute_result",
          "data": {
            "text/plain": [
              "<matplotlib.axes._subplots.AxesSubplot at 0x7f9398ec72d0>"
            ]
          },
          "metadata": {},
          "execution_count": 188
        },
        {
          "output_type": "display_data",
          "data": {
            "text/plain": [
              "<Figure size 432x288 with 1 Axes>"
            ],
            "image/png": "[encoded data removed]"
          },
          "metadata": {
            "needs_background": "light"
          }
        }
      ]
    },
    {
      "cell_type": "code",
      "source": [
        "sns.lineplot(data=data)"
      ],
      "metadata": {
        "colab": {
          "base_uri": "https://localhost:8080/",
          "height": 296
        },
        "id": "OPKLSeR_o3G_",
        "outputId": "d0626275-8df8-4b0d-df72-4f90254308c0"
      },
      "execution_count": null,
      "outputs": [
        {
          "output_type": "execute_result",
          "data": {
            "text/plain": [
              "<matplotlib.axes._subplots.AxesSubplot at 0x7f93991a3050>"
            ]
          },
          "metadata": {},
          "execution_count": 184
        },
        {
          "output_type": "display_data",
          "data": {
            "text/plain": [
              "<Figure size 432x288 with 1 Axes>"
            ],
            "image/png": "[encoded data removed]"
          },
          "metadata": {
            "needs_background": "light"
          }
        }
      ]
    },
    {
      "cell_type": "code",
      "source": [
        "sns.lineplot(data=df, x=\"tahun\", y=\"jumlah\")"
      ],
      "metadata": {
        "colab": {
          "base_uri": "https://localhost:8080/",
          "height": 296
        },
        "id": "kj2zB6FLpE4k",
        "outputId": "e669d465-bb31-44b7-a9e6-465a5953213d"
      },
      "execution_count": null,
      "outputs": [
        {
          "output_type": "execute_result",
          "data": {
            "text/plain": [
              "<matplotlib.axes._subplots.AxesSubplot at 0x7f93991d0590>"
            ]
          },
          "metadata": {},
          "execution_count": 186
        },
        {
          "output_type": "display_data",
          "data": {
            "text/plain": [
              "<Figure size 432x288 with 1 Axes>"
            ],
            "image/png": "[encoded data removed]"
          },
          "metadata": {
            "needs_background": "light"
          }
        }
      ]
    }
  ]
}